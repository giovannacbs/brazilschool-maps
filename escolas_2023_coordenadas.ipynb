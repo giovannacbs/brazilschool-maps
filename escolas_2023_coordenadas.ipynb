{
 "cells": [
  {
   "cell_type": "code",
   "execution_count": 4,
   "metadata": {},
   "outputs": [],
   "source": [
    "import pandas as pd"
   ]
  },
  {
   "cell_type": "code",
   "execution_count": 5,
   "metadata": {},
   "outputs": [
    {
     "name": "stderr",
     "output_type": "stream",
     "text": [
      "/var/folders/j1/rpfbbg6x4tz467ktphvz_27w0000gp/T/ipykernel_71039/2537750215.py:2: DtypeWarning: Columns (24,25,27,385,387) have mixed types. Specify dtype option on import or set low_memory=False.\n",
      "  df = pd.read_csv('censo_2011_to_2023.csv')\n"
     ]
    }
   ],
   "source": [
    "# Importando base de dados do censo \n",
    "df = pd.read_csv('censo_2011_to_2023.csv')"
   ]
  },
  {
   "cell_type": "code",
   "execution_count": 6,
   "metadata": {},
   "outputs": [],
   "source": [
    "# Importando informações (latitude/longitude) das escolas \n",
    "info = pd.read_csv('Tabela da lista das escolas.csv', delimiter=\";\")"
   ]
  },
  {
   "cell_type": "code",
   "execution_count": 7,
   "metadata": {},
   "outputs": [
    {
     "data": {
      "text/plain": [
       "217625"
      ]
     },
     "execution_count": 7,
     "metadata": {},
     "output_type": "execute_result"
    }
   ],
   "source": [
    "# Número de escolas na base de dados Censo Educação\n",
    "df.query('NU_ANO_CENSO == 2023')['CO_ENTIDADE'].nunique()"
   ]
  },
  {
   "cell_type": "code",
   "execution_count": 20,
   "metadata": {},
   "outputs": [
    {
     "data": {
      "text/plain": [
       "212313"
      ]
     },
     "execution_count": 20,
     "metadata": {},
     "output_type": "execute_result"
    }
   ],
   "source": [
    "# Número de escolas no catálogo de escolas\n",
    "info['Código INEP'].nunique()"
   ]
  },
  {
   "cell_type": "code",
   "execution_count": 9,
   "metadata": {},
   "outputs": [],
   "source": [
    "# Transformando latitude/longitude em dicionários de acordo com os códigos das escolas\n",
    "long = dict(zip(info['Código INEP'], info['Longitude']))\n",
    "lat = dict(zip(info['Código INEP'], info['Latitude']))"
   ]
  },
  {
   "cell_type": "code",
   "execution_count": 10,
   "metadata": {},
   "outputs": [],
   "source": [
    "# Criando colunas na base de dados com as coordenadas \n",
    "df['Longitude'] = df['CO_ENTIDADE'].map(long)\n",
    "df['Latitude'] = df['CO_ENTIDADE'].map(lat)"
   ]
  },
  {
   "cell_type": "code",
   "execution_count": 11,
   "metadata": {},
   "outputs": [],
   "source": [
    "# Excluindo escolas que não foram localizadas no catálogo de escolas \n",
    "escolas_2023 = df.query(\"NU_ANO_CENSO\t== 2023\").dropna(subset=['Longitude'])"
   ]
  },
  {
   "cell_type": "code",
   "execution_count": 12,
   "metadata": {},
   "outputs": [],
   "source": [
    "# Filtrando colunas para a base de dados final\n",
    "escolas_2023_sel = escolas_2023.filter(items=['Longitude', 'Latitude', 'SG_UF', 'NO_ENTIDADE', \n",
    "                                              'IN_AGUA_POTAVEL', \n",
    "                                              'IN_COMP_PORTATIL_ALUNO',\n",
    "                                              'IN_INTERNET',\n",
    "                                              'TP_DEPENDENCIA',\n",
    "                                              'IN_EDUCACAO_INDIGENA'])\n"
   ]
  },
  {
   "cell_type": "code",
   "execution_count": 13,
   "metadata": {},
   "outputs": [],
   "source": [
    "# Exportando arquivo csv com coordenadas (ps: esse arquivo pode ser lido diretamente no QGIS e irá aparecer cada escola como ponto)\n",
    "escolas_2023_sel.to_csv('escolas_2023_coordenadas.csv', index=False)"
   ]
  },
  {
   "cell_type": "code",
   "execution_count": null,
   "metadata": {},
   "outputs": [],
   "source": []
  }
 ],
 "metadata": {
  "kernelspec": {
   "display_name": "base",
   "language": "python",
   "name": "python3"
  },
  "language_info": {
   "codemirror_mode": {
    "name": "ipython",
    "version": 3
   },
   "file_extension": ".py",
   "mimetype": "text/x-python",
   "name": "python",
   "nbconvert_exporter": "python",
   "pygments_lexer": "ipython3",
   "version": "3.11.7"
  }
 },
 "nbformat": 4,
 "nbformat_minor": 2
}
